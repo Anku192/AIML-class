{
  "cells": [
    {
      "cell_type": "markdown",
      "metadata": {
        "id": "view-in-github",
        "colab_type": "text"
      },
      "source": [
        "<a href=\"https://colab.research.google.com/github/Anku192/AIML-class/blob/main/USN_ML_Lab_Experiment_01.ipynb\" target=\"_parent\"><img src=\"https://colab.research.google.com/assets/colab-badge.svg\" alt=\"Open In Colab\"/></a>"
      ]
    },
    {
      "cell_type": "markdown",
      "id": "3c3d0071-a712-43ab-8404-fe70758297b5",
      "metadata": {
        "id": "3c3d0071-a712-43ab-8404-fe70758297b5"
      },
      "source": [
        "### Lab Experiment 01\n",
        "**Objective:** Perform various data preprocessing techniques like handling missing data and feature scaling.\n",
        "<hr>"
      ]
    },
    {
      "cell_type": "markdown",
      "id": "953c9589-f91b-4beb-90f4-91f12c6b888d",
      "metadata": {
        "id": "953c9589-f91b-4beb-90f4-91f12c6b888d"
      },
      "source": [
        "#### 🧑‍🎓 Student Details\n",
        "\n",
        "| Field                | Information                |\n",
        "|---------------------|----------------------------|\n",
        "| 👨‍🎓 **Name**            | _[Ankur Prashant Balse]_     |\n",
        "| 🆔 **USN**              | _[1RUA24CSE0059]_           |\n",
        "| **Section**        | _[A section]_ |\n",
        "| **Programme**   | B.Tech(computer science, AIML)             |\n",
        "| **School**  | Computer Science and Engineering |\n"
      ]
    },
    {
      "cell_type": "markdown",
      "source": [],
      "metadata": {
        "id": "XEbey5Z_yOvD"
      },
      "id": "XEbey5Z_yOvD"
    },
    {
      "cell_type": "code",
      "execution_count": null,
      "metadata": {
        "id": "1e5e3991-55bd-44bb-b39b-60f8ed1f5e18",
        "outputId": "3c5a41d1-b3b6-469b-fb60-4c3bd9b8e986",
        "colab": {
          "base_uri": "https://localhost:8080/"
        }
      },
      "outputs": [
        {
          "output_type": "stream",
          "name": "stdout",
          "text": [
            "🧑‍💻 System Details\n",
            "----------------------------------------\n",
            "User Name           : root\n",
            "Timestamp           : 2025-08-14 04:10:46\n",
            "OS                  : Linux 6.1.123+\n",
            "Processor           : x86_64\n",
            "RAM (GB)            : 12.67\n",
            "Python Version      : 3.11.13\n",
            "Working Directory   : /content\n"
          ]
        }
      ],
      "source": [
        "import platform\n",
        "import psutil\n",
        "from datetime import datetime\n",
        "import sys\n",
        "import getpass\n",
        "import os\n",
        "\n",
        "# Timestamp\n",
        "timestamp = datetime.now().strftime('%Y-%m-%d %H:%M:%S')\n",
        "# System Information\n",
        "system_info = {\n",
        "    \"User Name\": getpass.getuser(),\n",
        "    \"Timestamp\": timestamp,\n",
        "    \"OS\": platform.system() + \" \" + platform.release(),\n",
        "    \"Processor\": platform.processor(),\n",
        "    \"RAM (GB)\": round(psutil.virtual_memory().total / (1024 ** 3), 2),\n",
        "    \"Python Version\": platform.python_version(),\n",
        "    \"Working Directory\": os.getcwd()\n",
        "}\n",
        "# Print formatted results\n",
        "print(\"🧑‍💻 System Details\\n\" + \"-\"*40)\n",
        "for key, value in system_info.items():\n",
        "    print(f\"{key:20}: {value}\")\n"
      ],
      "id": "1e5e3991-55bd-44bb-b39b-60f8ed1f5e18"
    },
    {
      "cell_type": "markdown",
      "id": "76e4eff0-007d-4ae5-81e5-2b5d63ed75fa",
      "metadata": {
        "id": "76e4eff0-007d-4ae5-81e5-2b5d63ed75fa"
      },
      "source": [
        "### Student Tasks\n",
        "<hr>"
      ]
    },
    {
      "cell_type": "markdown",
      "id": "57e301df-a10d-4331-89c6-f1a1c36b1850",
      "metadata": {
        "id": "57e301df-a10d-4331-89c6-f1a1c36b1850"
      },
      "source": [
        "**Step 01:**\n",
        "- Import necessary Python libraries for data handling and preprocessing."
      ]
    },
    {
      "cell_type": "code",
      "execution_count": 26,
      "id": "85bf8030-9b90-4e1a-a771-ad00f3ae8be9",
      "metadata": {
        "id": "85bf8030-9b90-4e1a-a771-ad00f3ae8be9",
        "colab": {
          "base_uri": "https://localhost:8080/"
        },
        "outputId": "93b5ebab-a246-4433-ed0d-ea78d7b4d79b"
      },
      "outputs": [
        {
          "output_type": "stream",
          "name": "stdout",
          "text": [
            "System Details\n",
            "----------------------------------------\n",
            "User Name           : root\n",
            "Timestamp           : 2025-08-14 05:20:22\n",
            "OS                  : Linux 6.1.123+\n",
            "Processor           : x86_64\n",
            "RAM (GB)            : 12.67\n",
            "Python Version      : 3.11.13\n",
            "Working Directory   : /content\n"
          ]
        }
      ],
      "source": [
        "import platform\n",
        "import psutil\n",
        "from datetime import datetime\n",
        "import sys\n",
        "import getpass\n",
        "import os\n",
        "# Timestamp\n",
        "timestamp = datetime.now().strftime('%Y-%m-%d %H:%M:%S')\n",
        "# System Information\n",
        "system_info = {\n",
        "\"User Name\": getpass.getuser(),\n",
        "\"Timestamp\": timestamp,\n",
        "\"OS\": platform.system() + \" \" + platform.release(),\n",
        "\"Processor\": platform.processor(),\n",
        "\"RAM (GB)\": round(psutil.virtual_memory().total / (1024 ** 3), 2),\n",
        "\"Python Version\": platform.python_version(),\n",
        "\"Working Directory\": os.getcwd()\n",
        "}\n",
        "# Print formatted results\n",
        "print(\"System Details\\n\" + \"-\"*40)\n",
        "for key, value in system_info.items():print(f\"{key:20}: {value}\")"
      ]
    },
    {
      "cell_type": "code",
      "source": [
        "import numpy as np\n",
        "import pandas as pd\n",
        "import matplotlib.pyplot as plt\n",
        "import seaborn as sns\n",
        "from sklearn.preprocessing import StandardScaler, MinMaxScaler"
      ],
      "metadata": {
        "id": "sSJ7wQ5BBjtl"
      },
      "id": "sSJ7wQ5BBjtl",
      "execution_count": 27,
      "outputs": []
    },
    {
      "cell_type": "markdown",
      "id": "99d61c47-405a-49f2-871e-befc84f15248",
      "metadata": {
        "id": "99d61c47-405a-49f2-871e-befc84f15248"
      },
      "source": [
        "**Step 02:**\n",
        "- Load the dataset (CSV format is recommended) using pandas.."
      ]
    },
    {
      "cell_type": "code",
      "execution_count": 28,
      "id": "10a7835b-eff0-46c4-a8c2-197d99f25e81",
      "metadata": {
        "id": "10a7835b-eff0-46c4-a8c2-197d99f25e81",
        "colab": {
          "base_uri": "https://localhost:8080/",
          "height": 258
        },
        "outputId": "bc0d2d2b-13e8-4ec8-dded-1e12a15752d2"
      },
      "outputs": [
        {
          "output_type": "execute_result",
          "data": {
            "text/plain": [
              "   PassengerId  Survived  Pclass  \\\n",
              "0            1         0       3   \n",
              "1            2         1       1   \n",
              "2            3         1       3   \n",
              "3            4         1       1   \n",
              "4            5         0       3   \n",
              "\n",
              "                                                Name     Sex   Age  SibSp  \\\n",
              "0                            Braund, Mr. Owen Harris    male  22.0      1   \n",
              "1  Cumings, Mrs. John Bradley (Florence Briggs Th...  female  38.0      1   \n",
              "2                              Heikkinen, Miss Laina  female  26.0      0   \n",
              "3       Futrelle, Mrs. Jacques Heath (Lily May Peel)  female  35.0      1   \n",
              "4                           Allen, Mr. William Henry    male  35.0      0   \n",
              "\n",
              "   Parch            Ticket     Fare Cabin Embarked  \n",
              "0      0         A/5 21171   7.2500   NaN        S  \n",
              "1      0          PC 17599  71.2833   C85        C  \n",
              "2      0  STON/O2. 3101282   7.9250   NaN        S  \n",
              "3      0            113803  53.1000  C123        S  \n",
              "4      0            373450   8.0500   NaN        S  "
            ],
            "text/html": [
              "\n",
              "  <div id=\"df-31264cb4-b424-45a4-9db4-1bc66725f6fd\" class=\"colab-df-container\">\n",
              "    <div>\n",
              "<style scoped>\n",
              "    .dataframe tbody tr th:only-of-type {\n",
              "        vertical-align: middle;\n",
              "    }\n",
              "\n",
              "    .dataframe tbody tr th {\n",
              "        vertical-align: top;\n",
              "    }\n",
              "\n",
              "    .dataframe thead th {\n",
              "        text-align: right;\n",
              "    }\n",
              "</style>\n",
              "<table border=\"1\" class=\"dataframe\">\n",
              "  <thead>\n",
              "    <tr style=\"text-align: right;\">\n",
              "      <th></th>\n",
              "      <th>PassengerId</th>\n",
              "      <th>Survived</th>\n",
              "      <th>Pclass</th>\n",
              "      <th>Name</th>\n",
              "      <th>Sex</th>\n",
              "      <th>Age</th>\n",
              "      <th>SibSp</th>\n",
              "      <th>Parch</th>\n",
              "      <th>Ticket</th>\n",
              "      <th>Fare</th>\n",
              "      <th>Cabin</th>\n",
              "      <th>Embarked</th>\n",
              "    </tr>\n",
              "  </thead>\n",
              "  <tbody>\n",
              "    <tr>\n",
              "      <th>0</th>\n",
              "      <td>1</td>\n",
              "      <td>0</td>\n",
              "      <td>3</td>\n",
              "      <td>Braund, Mr. Owen Harris</td>\n",
              "      <td>male</td>\n",
              "      <td>22.0</td>\n",
              "      <td>1</td>\n",
              "      <td>0</td>\n",
              "      <td>A/5 21171</td>\n",
              "      <td>7.2500</td>\n",
              "      <td>NaN</td>\n",
              "      <td>S</td>\n",
              "    </tr>\n",
              "    <tr>\n",
              "      <th>1</th>\n",
              "      <td>2</td>\n",
              "      <td>1</td>\n",
              "      <td>1</td>\n",
              "      <td>Cumings, Mrs. John Bradley (Florence Briggs Th...</td>\n",
              "      <td>female</td>\n",
              "      <td>38.0</td>\n",
              "      <td>1</td>\n",
              "      <td>0</td>\n",
              "      <td>PC 17599</td>\n",
              "      <td>71.2833</td>\n",
              "      <td>C85</td>\n",
              "      <td>C</td>\n",
              "    </tr>\n",
              "    <tr>\n",
              "      <th>2</th>\n",
              "      <td>3</td>\n",
              "      <td>1</td>\n",
              "      <td>3</td>\n",
              "      <td>Heikkinen, Miss Laina</td>\n",
              "      <td>female</td>\n",
              "      <td>26.0</td>\n",
              "      <td>0</td>\n",
              "      <td>0</td>\n",
              "      <td>STON/O2. 3101282</td>\n",
              "      <td>7.9250</td>\n",
              "      <td>NaN</td>\n",
              "      <td>S</td>\n",
              "    </tr>\n",
              "    <tr>\n",
              "      <th>3</th>\n",
              "      <td>4</td>\n",
              "      <td>1</td>\n",
              "      <td>1</td>\n",
              "      <td>Futrelle, Mrs. Jacques Heath (Lily May Peel)</td>\n",
              "      <td>female</td>\n",
              "      <td>35.0</td>\n",
              "      <td>1</td>\n",
              "      <td>0</td>\n",
              "      <td>113803</td>\n",
              "      <td>53.1000</td>\n",
              "      <td>C123</td>\n",
              "      <td>S</td>\n",
              "    </tr>\n",
              "    <tr>\n",
              "      <th>4</th>\n",
              "      <td>5</td>\n",
              "      <td>0</td>\n",
              "      <td>3</td>\n",
              "      <td>Allen, Mr. William Henry</td>\n",
              "      <td>male</td>\n",
              "      <td>35.0</td>\n",
              "      <td>0</td>\n",
              "      <td>0</td>\n",
              "      <td>373450</td>\n",
              "      <td>8.0500</td>\n",
              "      <td>NaN</td>\n",
              "      <td>S</td>\n",
              "    </tr>\n",
              "  </tbody>\n",
              "</table>\n",
              "</div>\n",
              "    <div class=\"colab-df-buttons\">\n",
              "\n",
              "  <div class=\"colab-df-container\">\n",
              "    <button class=\"colab-df-convert\" onclick=\"convertToInteractive('df-31264cb4-b424-45a4-9db4-1bc66725f6fd')\"\n",
              "            title=\"Convert this dataframe to an interactive table.\"\n",
              "            style=\"display:none;\">\n",
              "\n",
              "  <svg xmlns=\"http://www.w3.org/2000/svg\" height=\"24px\" viewBox=\"0 -960 960 960\">\n",
              "    <path d=\"M120-120v-720h720v720H120Zm60-500h600v-160H180v160Zm220 220h160v-160H400v160Zm0 220h160v-160H400v160ZM180-400h160v-160H180v160Zm440 0h160v-160H620v160ZM180-180h160v-160H180v160Zm440 0h160v-160H620v160Z\"/>\n",
              "  </svg>\n",
              "    </button>\n",
              "\n",
              "  <style>\n",
              "    .colab-df-container {\n",
              "      display:flex;\n",
              "      gap: 12px;\n",
              "    }\n",
              "\n",
              "    .colab-df-convert {\n",
              "      background-color: #E8F0FE;\n",
              "      border: none;\n",
              "      border-radius: 50%;\n",
              "      cursor: pointer;\n",
              "      display: none;\n",
              "      fill: #1967D2;\n",
              "      height: 32px;\n",
              "      padding: 0 0 0 0;\n",
              "      width: 32px;\n",
              "    }\n",
              "\n",
              "    .colab-df-convert:hover {\n",
              "      background-color: #E2EBFA;\n",
              "      box-shadow: 0px 1px 2px rgba(60, 64, 67, 0.3), 0px 1px 3px 1px rgba(60, 64, 67, 0.15);\n",
              "      fill: #174EA6;\n",
              "    }\n",
              "\n",
              "    .colab-df-buttons div {\n",
              "      margin-bottom: 4px;\n",
              "    }\n",
              "\n",
              "    [theme=dark] .colab-df-convert {\n",
              "      background-color: #3B4455;\n",
              "      fill: #D2E3FC;\n",
              "    }\n",
              "\n",
              "    [theme=dark] .colab-df-convert:hover {\n",
              "      background-color: #434B5C;\n",
              "      box-shadow: 0px 1px 3px 1px rgba(0, 0, 0, 0.15);\n",
              "      filter: drop-shadow(0px 1px 2px rgba(0, 0, 0, 0.3));\n",
              "      fill: #FFFFFF;\n",
              "    }\n",
              "  </style>\n",
              "\n",
              "    <script>\n",
              "      const buttonEl =\n",
              "        document.querySelector('#df-31264cb4-b424-45a4-9db4-1bc66725f6fd button.colab-df-convert');\n",
              "      buttonEl.style.display =\n",
              "        google.colab.kernel.accessAllowed ? 'block' : 'none';\n",
              "\n",
              "      async function convertToInteractive(key) {\n",
              "        const element = document.querySelector('#df-31264cb4-b424-45a4-9db4-1bc66725f6fd');\n",
              "        const dataTable =\n",
              "          await google.colab.kernel.invokeFunction('convertToInteractive',\n",
              "                                                    [key], {});\n",
              "        if (!dataTable) return;\n",
              "\n",
              "        const docLinkHtml = 'Like what you see? Visit the ' +\n",
              "          '<a target=\"_blank\" href=https://colab.research.google.com/notebooks/data_table.ipynb>data table notebook</a>'\n",
              "          + ' to learn more about interactive tables.';\n",
              "        element.innerHTML = '';\n",
              "        dataTable['output_type'] = 'display_data';\n",
              "        await google.colab.output.renderOutput(dataTable, element);\n",
              "        const docLink = document.createElement('div');\n",
              "        docLink.innerHTML = docLinkHtml;\n",
              "        element.appendChild(docLink);\n",
              "      }\n",
              "    </script>\n",
              "  </div>\n",
              "\n",
              "\n",
              "    <div id=\"df-2a9fbdc2-01bd-47d9-87d0-8d03743a2826\">\n",
              "      <button class=\"colab-df-quickchart\" onclick=\"quickchart('df-2a9fbdc2-01bd-47d9-87d0-8d03743a2826')\"\n",
              "                title=\"Suggest charts\"\n",
              "                style=\"display:none;\">\n",
              "\n",
              "<svg xmlns=\"http://www.w3.org/2000/svg\" height=\"24px\"viewBox=\"0 0 24 24\"\n",
              "     width=\"24px\">\n",
              "    <g>\n",
              "        <path d=\"M19 3H5c-1.1 0-2 .9-2 2v14c0 1.1.9 2 2 2h14c1.1 0 2-.9 2-2V5c0-1.1-.9-2-2-2zM9 17H7v-7h2v7zm4 0h-2V7h2v10zm4 0h-2v-4h2v4z\"/>\n",
              "    </g>\n",
              "</svg>\n",
              "      </button>\n",
              "\n",
              "<style>\n",
              "  .colab-df-quickchart {\n",
              "      --bg-color: #E8F0FE;\n",
              "      --fill-color: #1967D2;\n",
              "      --hover-bg-color: #E2EBFA;\n",
              "      --hover-fill-color: #174EA6;\n",
              "      --disabled-fill-color: #AAA;\n",
              "      --disabled-bg-color: #DDD;\n",
              "  }\n",
              "\n",
              "  [theme=dark] .colab-df-quickchart {\n",
              "      --bg-color: #3B4455;\n",
              "      --fill-color: #D2E3FC;\n",
              "      --hover-bg-color: #434B5C;\n",
              "      --hover-fill-color: #FFFFFF;\n",
              "      --disabled-bg-color: #3B4455;\n",
              "      --disabled-fill-color: #666;\n",
              "  }\n",
              "\n",
              "  .colab-df-quickchart {\n",
              "    background-color: var(--bg-color);\n",
              "    border: none;\n",
              "    border-radius: 50%;\n",
              "    cursor: pointer;\n",
              "    display: none;\n",
              "    fill: var(--fill-color);\n",
              "    height: 32px;\n",
              "    padding: 0;\n",
              "    width: 32px;\n",
              "  }\n",
              "\n",
              "  .colab-df-quickchart:hover {\n",
              "    background-color: var(--hover-bg-color);\n",
              "    box-shadow: 0 1px 2px rgba(60, 64, 67, 0.3), 0 1px 3px 1px rgba(60, 64, 67, 0.15);\n",
              "    fill: var(--button-hover-fill-color);\n",
              "  }\n",
              "\n",
              "  .colab-df-quickchart-complete:disabled,\n",
              "  .colab-df-quickchart-complete:disabled:hover {\n",
              "    background-color: var(--disabled-bg-color);\n",
              "    fill: var(--disabled-fill-color);\n",
              "    box-shadow: none;\n",
              "  }\n",
              "\n",
              "  .colab-df-spinner {\n",
              "    border: 2px solid var(--fill-color);\n",
              "    border-color: transparent;\n",
              "    border-bottom-color: var(--fill-color);\n",
              "    animation:\n",
              "      spin 1s steps(1) infinite;\n",
              "  }\n",
              "\n",
              "  @keyframes spin {\n",
              "    0% {\n",
              "      border-color: transparent;\n",
              "      border-bottom-color: var(--fill-color);\n",
              "      border-left-color: var(--fill-color);\n",
              "    }\n",
              "    20% {\n",
              "      border-color: transparent;\n",
              "      border-left-color: var(--fill-color);\n",
              "      border-top-color: var(--fill-color);\n",
              "    }\n",
              "    30% {\n",
              "      border-color: transparent;\n",
              "      border-left-color: var(--fill-color);\n",
              "      border-top-color: var(--fill-color);\n",
              "      border-right-color: var(--fill-color);\n",
              "    }\n",
              "    40% {\n",
              "      border-color: transparent;\n",
              "      border-right-color: var(--fill-color);\n",
              "      border-top-color: var(--fill-color);\n",
              "    }\n",
              "    60% {\n",
              "      border-color: transparent;\n",
              "      border-right-color: var(--fill-color);\n",
              "    }\n",
              "    80% {\n",
              "      border-color: transparent;\n",
              "      border-right-color: var(--fill-color);\n",
              "      border-bottom-color: var(--fill-color);\n",
              "    }\n",
              "    90% {\n",
              "      border-color: transparent;\n",
              "      border-bottom-color: var(--fill-color);\n",
              "    }\n",
              "  }\n",
              "</style>\n",
              "\n",
              "      <script>\n",
              "        async function quickchart(key) {\n",
              "          const quickchartButtonEl =\n",
              "            document.querySelector('#' + key + ' button');\n",
              "          quickchartButtonEl.disabled = true;  // To prevent multiple clicks.\n",
              "          quickchartButtonEl.classList.add('colab-df-spinner');\n",
              "          try {\n",
              "            const charts = await google.colab.kernel.invokeFunction(\n",
              "                'suggestCharts', [key], {});\n",
              "          } catch (error) {\n",
              "            console.error('Error during call to suggestCharts:', error);\n",
              "          }\n",
              "          quickchartButtonEl.classList.remove('colab-df-spinner');\n",
              "          quickchartButtonEl.classList.add('colab-df-quickchart-complete');\n",
              "        }\n",
              "        (() => {\n",
              "          let quickchartButtonEl =\n",
              "            document.querySelector('#df-2a9fbdc2-01bd-47d9-87d0-8d03743a2826 button');\n",
              "          quickchartButtonEl.style.display =\n",
              "            google.colab.kernel.accessAllowed ? 'block' : 'none';\n",
              "        })();\n",
              "      </script>\n",
              "    </div>\n",
              "\n",
              "    </div>\n",
              "  </div>\n"
            ],
            "application/vnd.google.colaboratory.intrinsic+json": {
              "type": "dataframe",
              "variable_name": "df",
              "summary": "{\n  \"name\": \"df\",\n  \"rows\": 891,\n  \"fields\": [\n    {\n      \"column\": \"PassengerId\",\n      \"properties\": {\n        \"dtype\": \"number\",\n        \"std\": 257,\n        \"min\": 1,\n        \"max\": 891,\n        \"num_unique_values\": 891,\n        \"samples\": [\n          710,\n          440,\n          841\n        ],\n        \"semantic_type\": \"\",\n        \"description\": \"\"\n      }\n    },\n    {\n      \"column\": \"Survived\",\n      \"properties\": {\n        \"dtype\": \"number\",\n        \"std\": 0,\n        \"min\": 0,\n        \"max\": 1,\n        \"num_unique_values\": 2,\n        \"samples\": [\n          1,\n          0\n        ],\n        \"semantic_type\": \"\",\n        \"description\": \"\"\n      }\n    },\n    {\n      \"column\": \"Pclass\",\n      \"properties\": {\n        \"dtype\": \"number\",\n        \"std\": 0,\n        \"min\": 1,\n        \"max\": 3,\n        \"num_unique_values\": 3,\n        \"samples\": [\n          3,\n          1\n        ],\n        \"semantic_type\": \"\",\n        \"description\": \"\"\n      }\n    },\n    {\n      \"column\": \"Name\",\n      \"properties\": {\n        \"dtype\": \"string\",\n        \"num_unique_values\": 891,\n        \"samples\": [\n          \"Moubarek, Master Halim Gonios (\\\"William George\\\")\",\n          \"Kvillner, Mr. Johan Henrik Johannesson\"\n        ],\n        \"semantic_type\": \"\",\n        \"description\": \"\"\n      }\n    },\n    {\n      \"column\": \"Sex\",\n      \"properties\": {\n        \"dtype\": \"category\",\n        \"num_unique_values\": 2,\n        \"samples\": [\n          \"female\",\n          \"male\"\n        ],\n        \"semantic_type\": \"\",\n        \"description\": \"\"\n      }\n    },\n    {\n      \"column\": \"Age\",\n      \"properties\": {\n        \"dtype\": \"number\",\n        \"std\": 14.526497332334044,\n        \"min\": 0.42,\n        \"max\": 80.0,\n        \"num_unique_values\": 88,\n        \"samples\": [\n          0.75,\n          22.0\n        ],\n        \"semantic_type\": \"\",\n        \"description\": \"\"\n      }\n    },\n    {\n      \"column\": \"SibSp\",\n      \"properties\": {\n        \"dtype\": \"number\",\n        \"std\": 1,\n        \"min\": 0,\n        \"max\": 8,\n        \"num_unique_values\": 7,\n        \"samples\": [\n          1,\n          0\n        ],\n        \"semantic_type\": \"\",\n        \"description\": \"\"\n      }\n    },\n    {\n      \"column\": \"Parch\",\n      \"properties\": {\n        \"dtype\": \"number\",\n        \"std\": 0,\n        \"min\": 0,\n        \"max\": 6,\n        \"num_unique_values\": 7,\n        \"samples\": [\n          0,\n          1\n        ],\n        \"semantic_type\": \"\",\n        \"description\": \"\"\n      }\n    },\n    {\n      \"column\": \"Ticket\",\n      \"properties\": {\n        \"dtype\": \"string\",\n        \"num_unique_values\": 681,\n        \"samples\": [\n          \"11774\",\n          \"248740\"\n        ],\n        \"semantic_type\": \"\",\n        \"description\": \"\"\n      }\n    },\n    {\n      \"column\": \"Fare\",\n      \"properties\": {\n        \"dtype\": \"number\",\n        \"std\": 49.693428597180905,\n        \"min\": 0.0,\n        \"max\": 512.3292,\n        \"num_unique_values\": 248,\n        \"samples\": [\n          11.2417,\n          51.8625\n        ],\n        \"semantic_type\": \"\",\n        \"description\": \"\"\n      }\n    },\n    {\n      \"column\": \"Cabin\",\n      \"properties\": {\n        \"dtype\": \"category\",\n        \"num_unique_values\": 147,\n        \"samples\": [\n          \"D45\",\n          \"B49\"\n        ],\n        \"semantic_type\": \"\",\n        \"description\": \"\"\n      }\n    },\n    {\n      \"column\": \"Embarked\",\n      \"properties\": {\n        \"dtype\": \"category\",\n        \"num_unique_values\": 3,\n        \"samples\": [\n          \"S\",\n          \"C\"\n        ],\n        \"semantic_type\": \"\",\n        \"description\": \"\"\n      }\n    }\n  ]\n}"
            }
          },
          "metadata": {},
          "execution_count": 28
        }
      ],
      "source": [
        "# [ Edit this cell ] Write your code below this line\n",
        "\n",
        "df = pd.read_csv('titanic.csv')\n",
        "df.head()\n",
        "\n"
      ]
    },
    {
      "cell_type": "markdown",
      "id": "f19f3cf5-9ddc-42a0-9def-b8abe98047b7",
      "metadata": {
        "id": "f19f3cf5-9ddc-42a0-9def-b8abe98047b7"
      },
      "source": [
        "**Step 03:**\n",
        "- Explore the dataset: check shape, data types, sample rows, summary statistics, etc."
      ]
    },
    {
      "cell_type": "code",
      "execution_count": 29,
      "id": "0978b6c8-59f0-4577-a004-7d3c8a3c2123",
      "metadata": {
        "id": "0978b6c8-59f0-4577-a004-7d3c8a3c2123",
        "colab": {
          "base_uri": "https://localhost:8080/"
        },
        "outputId": "b19cec4b-4844-4c6c-b4f7-78ef9cde1ce7"
      },
      "outputs": [
        {
          "output_type": "stream",
          "name": "stdout",
          "text": [
            "Shape of dataset: (891, 12)\n",
            "\n",
            "Data types:\n",
            " PassengerId      int64\n",
            "Survived         int64\n",
            "Pclass           int64\n",
            "Name            object\n",
            "Sex             object\n",
            "Age            float64\n",
            "SibSp            int64\n",
            "Parch            int64\n",
            "Ticket          object\n",
            "Fare           float64\n",
            "Cabin           object\n",
            "Embarked        object\n",
            "dtype: object\n",
            "\n",
            "First 5 rows:\n",
            "    PassengerId  Survived  Pclass  \\\n",
            "0            1         0       3   \n",
            "1            2         1       1   \n",
            "\n",
            "                                                Name     Sex   Age  SibSp  \\\n",
            "0                            Braund, Mr. Owen Harris    male  22.0      1   \n",
            "1  Cumings, Mrs. John Bradley (Florence Briggs Th...  female  38.0      1   \n",
            "\n",
            "   Parch     Ticket     Fare Cabin Embarked  \n",
            "0      0  A/5 21171   7.2500   NaN        S  \n",
            "1      0   PC 17599  71.2833   C85        C  \n"
          ]
        }
      ],
      "source": [
        "# [ Edit this cell ] Write your code below this line\n",
        "\n",
        "# 1. Shape of dataset (rows, columns)\n",
        "print(\"Shape of dataset:\", df.shape)\n",
        "# 2. Data types of each column\n",
        "print(\"\\nData types:\\n\", df.dtypes)\n",
        "# 3. First few rows (peek at data)\n",
        "print(\"\\nFirst 5 rows:\\n\", df.head(2))"
      ]
    },
    {
      "cell_type": "code",
      "source": [
        "print(\"\\nSummary statistics:\\n\", df.describe())"
      ],
      "metadata": {
        "colab": {
          "base_uri": "https://localhost:8080/"
        },
        "id": "z3s4uTtNB6Mv",
        "outputId": "016571ac-6f5e-4d65-e834-25b413209ea8"
      },
      "id": "z3s4uTtNB6Mv",
      "execution_count": 30,
      "outputs": [
        {
          "output_type": "stream",
          "name": "stdout",
          "text": [
            "\n",
            "Summary statistics:\n",
            "        PassengerId    Survived      Pclass         Age       SibSp  \\\n",
            "count   891.000000  891.000000  891.000000  714.000000  891.000000   \n",
            "mean    446.000000    0.383838    2.308642   29.699118    0.523008   \n",
            "std     257.353842    0.486592    0.836071   14.526497    1.102743   \n",
            "min       1.000000    0.000000    1.000000    0.420000    0.000000   \n",
            "25%     223.500000    0.000000    2.000000   20.125000    0.000000   \n",
            "50%     446.000000    0.000000    3.000000   28.000000    0.000000   \n",
            "75%     668.500000    1.000000    3.000000   38.000000    1.000000   \n",
            "max     891.000000    1.000000    3.000000   80.000000    8.000000   \n",
            "\n",
            "            Parch        Fare  \n",
            "count  891.000000  891.000000  \n",
            "mean     0.381594   32.204208  \n",
            "std      0.806057   49.693429  \n",
            "min      0.000000    0.000000  \n",
            "25%      0.000000    7.910400  \n",
            "50%      0.000000   14.454200  \n",
            "75%      0.000000   31.000000  \n",
            "max      6.000000  512.329200  \n"
          ]
        }
      ]
    },
    {
      "cell_type": "markdown",
      "id": "037511af-f1c4-47a7-96a4-a2966d891fa0",
      "metadata": {
        "id": "037511af-f1c4-47a7-96a4-a2966d891fa0"
      },
      "source": [
        "**Step 04:**\n",
        "- Detect missing values and any obvious anomalies (e.g., out-of-range values).."
      ]
    },
    {
      "cell_type": "code",
      "execution_count": 31,
      "id": "d58b96bf-c091-44b5-901a-11aae60028c1",
      "metadata": {
        "id": "d58b96bf-c091-44b5-901a-11aae60028c1",
        "colab": {
          "base_uri": "https://localhost:8080/"
        },
        "outputId": "f1295674-e6f5-4564-c64c-0cfe820babb1"
      },
      "outputs": [
        {
          "output_type": "stream",
          "name": "stdout",
          "text": [
            "Missing Values:\n",
            "              Count\n",
            "PassengerId      0\n",
            "Survived         0\n",
            "Pclass           0\n",
            "Name             0\n",
            "Sex              0\n",
            "Age            177\n",
            "SibSp            0\n",
            "Parch            0\n",
            "Ticket           0\n",
            "Fare             0\n",
            "Cabin          687\n",
            "Embarked         2\n"
          ]
        }
      ],
      "source": [
        "# [ Edit this cell ] Write your code below this line\n",
        "\n",
        "missing_counts = df.isnull().sum()\n",
        "print(\"Missing Values:\\n\", pd.DataFrame({'Count': missing_counts}))"
      ]
    },
    {
      "cell_type": "code",
      "source": [
        "numeric_cols = df.select_dtypes(include=np.number).columns\n",
        "# ---- 1. Handle Missing Values ----\n",
        "# Numeric: Impute with median (less sensitive to outliers)\n",
        "df[numeric_cols] = df[numeric_cols].fillna(df[numeric_cols].median())\n",
        "\n",
        "print(numeric_cols)\n",
        "# Priniting the Cleaned Data\n",
        "print(\"New dataset shape:\", df.shape)\n",
        "print(\"Remaining missing values:\\n\", df.isnull().sum())"
      ],
      "metadata": {
        "colab": {
          "base_uri": "https://localhost:8080/"
        },
        "id": "zxdO6sP13vgY",
        "outputId": "fafe53a6-dfc3-4f37-cfca-8d1a6fca5775"
      },
      "id": "zxdO6sP13vgY",
      "execution_count": 32,
      "outputs": [
        {
          "output_type": "stream",
          "name": "stdout",
          "text": [
            "Index(['PassengerId', 'Survived', 'Pclass', 'Age', 'SibSp', 'Parch', 'Fare'], dtype='object')\n",
            "New dataset shape: (891, 12)\n",
            "Remaining missing values:\n",
            " PassengerId      0\n",
            "Survived         0\n",
            "Pclass           0\n",
            "Name             0\n",
            "Sex              0\n",
            "Age              0\n",
            "SibSp            0\n",
            "Parch            0\n",
            "Ticket           0\n",
            "Fare             0\n",
            "Cabin          687\n",
            "Embarked         2\n",
            "dtype: int64\n"
          ]
        }
      ]
    },
    {
      "cell_type": "markdown",
      "id": "6507b7bc-d7ac-4112-bd28-9d86578ba5eb",
      "metadata": {
        "id": "6507b7bc-d7ac-4112-bd28-9d86578ba5eb"
      },
      "source": [
        "\n",
        "**Step 05:**\n",
        "- Choose and perform strategies such as mean/median imputation or removal.."
      ]
    },
    {
      "cell_type": "code",
      "source": [
        "# Strategy 1: Drop rows with missing values (if few missing values)\n",
        "\n",
        "# Separate numeric and categorical columns\n",
        "numeric_cols = df.select_dtypes(include=np.number).columns\n",
        "# ---- 1. Handle Missing Values ----\n",
        "# Numeric: Impute with median (less sensitive to outliers)\n",
        "df[numeric_cols] = df[numeric_cols].fillna(df[numeric_cols].median())\n",
        "\n",
        "print(numeric_cols)\n",
        "# Priniting the Cleaned Data\n",
        "print(\"New dataset shape:\", df.shape)\n",
        "print(\"Remaining missing values:\\n\", df.isnull().sum())"
      ],
      "metadata": {
        "colab": {
          "base_uri": "https://localhost:8080/"
        },
        "id": "thgrdBHD3KSq",
        "outputId": "4ea9d58e-f07f-4d4d-9aad-1ebc43abafe3"
      },
      "id": "thgrdBHD3KSq",
      "execution_count": 33,
      "outputs": [
        {
          "output_type": "stream",
          "name": "stdout",
          "text": [
            "Index(['PassengerId', 'Survived', 'Pclass', 'Age', 'SibSp', 'Parch', 'Fare'], dtype='object')\n",
            "New dataset shape: (891, 12)\n",
            "Remaining missing values:\n",
            " PassengerId      0\n",
            "Survived         0\n",
            "Pclass           0\n",
            "Name             0\n",
            "Sex              0\n",
            "Age              0\n",
            "SibSp            0\n",
            "Parch            0\n",
            "Ticket           0\n",
            "Fare             0\n",
            "Cabin          687\n",
            "Embarked         2\n",
            "dtype: int64\n"
          ]
        }
      ]
    },
    {
      "cell_type": "markdown",
      "id": "5ace1d24-9c41-4be1-a5b8-0a8796393769",
      "metadata": {
        "id": "5ace1d24-9c41-4be1-a5b8-0a8796393769"
      },
      "source": [
        "**Step 06:**\n",
        "- Choose and perform strategies such as mean/median imputation or removal.."
      ]
    },
    {
      "cell_type": "code",
      "execution_count": 36,
      "id": "67eb5d62-2013-4392-abe5-2c1c82c68413",
      "metadata": {
        "id": "67eb5d62-2013-4392-abe5-2c1c82c68413",
        "colab": {
          "base_uri": "https://localhost:8080/"
        },
        "outputId": "9c2b7226-1208-404f-e9d2-145b033d6c5a"
      },
      "outputs": [
        {
          "output_type": "stream",
          "name": "stdout",
          "text": [
            "Index(['Name', 'Sex', 'Ticket', 'Cabin', 'Embarked'], dtype='object')\n",
            "New dataset shape: (891, 12)\n",
            "Remaining missing values:\n",
            " PassengerId    0\n",
            "Survived       0\n",
            "Pclass         0\n",
            "Name           0\n",
            "Sex            0\n",
            "Age            0\n",
            "SibSp          0\n",
            "Parch          0\n",
            "Ticket         0\n",
            "Fare           0\n",
            "Cabin          0\n",
            "Embarked       0\n",
            "dtype: int64\n",
            "\n",
            "Data after handling categorical variables:\n",
            "   PassengerId  Survived  Pclass  \\\n",
            "0            1         0       3   \n",
            "1            2         1       1   \n",
            "2            3         1       3   \n",
            "3            4         1       1   \n",
            "4            5         0       3   \n",
            "\n",
            "                                                Name     Sex   Age  SibSp  \\\n",
            "0                            Braund, Mr. Owen Harris    male  22.0      1   \n",
            "1  Cumings, Mrs. John Bradley (Florence Briggs Th...  female  38.0      1   \n",
            "2                              Heikkinen, Miss Laina  female  26.0      0   \n",
            "3       Futrelle, Mrs. Jacques Heath (Lily May Peel)  female  35.0      1   \n",
            "4                           Allen, Mr. William Henry    male  35.0      0   \n",
            "\n",
            "   Parch            Ticket     Fare    Cabin Embarked  \n",
            "0      0         A/5 21171   7.2500  B96 B98        S  \n",
            "1      0          PC 17599  71.2833      C85        C  \n",
            "2      0  STON/O2. 3101282   7.9250  B96 B98        S  \n",
            "3      0            113803  53.1000     C123        S  \n",
            "4      0            373450   8.0500  B96 B98        S  \n"
          ]
        }
      ],
      "source": [
        "# [ Edit this cell ] Write your code below this line\n",
        "\n",
        "categorical_cols = df.select_dtypes(exclude=np.number).columns\n",
        "# Categorical: Impute with most frequent value (mode)\n",
        "for col in categorical_cols:\n",
        "  if df[col].isnull().sum() > 0:\n",
        "    df[col] = df[col].fillna(df[col].mode()[0])\n",
        "print(categorical_cols)\n",
        "print(\"New dataset shape:\", df.shape)\n",
        "print(\"Remaining missing values:\\n\", df.isnull().sum())\n",
        "\n",
        "print(\"\\nData after handling categorical variables:\")\n",
        "print(df.head())"
      ]
    },
    {
      "cell_type": "markdown",
      "id": "ff362167-ca23-4903-8c8b-91162b29fc90",
      "metadata": {
        "id": "ff362167-ca23-4903-8c8b-91162b29fc90"
      },
      "source": [
        "**Step 07:**\n",
        "- Standardize or normalize your numeric columns.."
      ]
    },
    {
      "cell_type": "code",
      "execution_count": 41,
      "id": "7f4cb2a0-3ea0-41c4-9259-d45df8f587e1",
      "metadata": {
        "id": "7f4cb2a0-3ea0-41c4-9259-d45df8f587e1",
        "colab": {
          "base_uri": "https://localhost:8080/"
        },
        "outputId": "abe09b16-8420-43fc-e646-1d31aece8e40"
      },
      "outputs": [
        {
          "output_type": "stream",
          "name": "stdout",
          "text": [
            "Standardization complete. Example preview:\n",
            "   PassengerId  Survived    Pclass       Age     SibSp     Parch      Fare\n",
            "0    -1.730108 -0.789272  0.827377 -0.565736  0.432793 -0.473674 -0.502445\n",
            "1    -1.726220  1.266990 -1.566107  0.663861  0.432793 -0.473674  0.786845\n",
            "2    -1.722332  1.266990  0.827377 -0.258337 -0.474545 -0.473674 -0.488854\n",
            "3    -1.718444  1.266990 -1.566107  0.433312  0.432793 -0.473674  0.420730\n",
            "4    -1.714556 -0.789272  0.827377  0.433312 -0.474545 -0.473674 -0.486337\n"
          ]
        }
      ],
      "source": [
        "numeric_cols = df.select_dtypes(include='number').columns\n",
        "# ===== 1. Standardization =====\n",
        "scaler_standard = StandardScaler()\n",
        "df_standardized = df.copy()\n",
        "df_standardized[numeric_cols] = scaler_standard.fit_transform(df_standardized[numeric_cols])\n",
        "print(\"Standardization complete. Example preview:\")\n",
        "print(df_standardized[numeric_cols].head())"
      ]
    },
    {
      "cell_type": "code",
      "source": [
        "scaler_minmax = MinMaxScaler()\n",
        "df_normalized = df.copy()\n",
        "df_normalized[numeric_cols] = scaler_minmax.fit_transform(df_normalized[numeric_cols])\n",
        "print(\"\\nNormalization complete. Example preview:\")\n",
        "print(df_normalized[numeric_cols].head())"
      ],
      "metadata": {
        "colab": {
          "base_uri": "https://localhost:8080/"
        },
        "id": "V7QlLxfxDAki",
        "outputId": "8d74d14a-4c12-4a97-80cf-79d25d9aa197"
      },
      "id": "V7QlLxfxDAki",
      "execution_count": 40,
      "outputs": [
        {
          "output_type": "stream",
          "name": "stdout",
          "text": [
            "\n",
            "Normalization complete. Example preview:\n",
            "   PassengerId  Survived  Pclass       Age  SibSp  Parch      Fare\n",
            "0     0.000000       0.0     1.0  0.271174  0.125    0.0  0.014151\n",
            "1     0.001124       1.0     0.0  0.472229  0.125    0.0  0.139136\n",
            "2     0.002247       1.0     1.0  0.321438  0.000    0.0  0.015469\n",
            "3     0.003371       1.0     0.0  0.434531  0.125    0.0  0.103644\n",
            "4     0.004494       0.0     1.0  0.434531  0.000    0.0  0.015713\n"
          ]
        }
      ]
    },
    {
      "cell_type": "markdown",
      "id": "1048f471-9236-4d57-97a4-d401be74ec1d",
      "metadata": {
        "id": "1048f471-9236-4d57-97a4-d401be74ec1d"
      },
      "source": [
        "**Step 08:**\n",
        "- Assign your input features to one variable (e.g., `X`) and output/target to another (e.g., `y`).."
      ]
    },
    {
      "cell_type": "code",
      "execution_count": 42,
      "id": "c14cd3c9-4074-426a-b139-52a90977edb8",
      "metadata": {
        "id": "c14cd3c9-4074-426a-b139-52a90977edb8",
        "colab": {
          "base_uri": "https://localhost:8080/"
        },
        "outputId": "99ef7b96-b2d8-414e-c10b-45f6f019716e"
      },
      "outputs": [
        {
          "output_type": "stream",
          "name": "stdout",
          "text": [
            "Features and target assigned.\n",
            "Shape of X: (891, 11)\n",
            "Shape of y: (891,)\n",
            "\n",
            "X preview:\n",
            "    PassengerId  Pclass                                               Name  \\\n",
            "0            1       3                            Braund, Mr. Owen Harris   \n",
            "1            2       1  Cumings, Mrs. John Bradley (Florence Briggs Th...   \n",
            "2            3       3                              Heikkinen, Miss Laina   \n",
            "3            4       1       Futrelle, Mrs. Jacques Heath (Lily May Peel)   \n",
            "4            5       3                           Allen, Mr. William Henry   \n",
            "\n",
            "      Sex   Age  SibSp  Parch            Ticket     Fare    Cabin Embarked  \n",
            "0    male  22.0      1      0         A/5 21171   7.2500  B96 B98        S  \n",
            "1  female  38.0      1      0          PC 17599  71.2833      C85        C  \n",
            "2  female  26.0      0      0  STON/O2. 3101282   7.9250  B96 B98        S  \n",
            "3  female  35.0      1      0            113803  53.1000     C123        S  \n",
            "4    male  35.0      0      0            373450   8.0500  B96 B98        S  \n",
            "\n",
            "y preview:\n",
            " 0    0\n",
            "1    1\n",
            "2    1\n",
            "3    1\n",
            "4    0\n",
            "Name: Survived, dtype: int64\n"
          ]
        }
      ],
      "source": [
        "# [ Edit this cell ] Write your code below this line\n",
        "target_column = 'Survived' # <-- Replace with your actual target column\n",
        "# Features (X) -> all columns except target\n",
        "X = df.drop(columns=[target_column])\n",
        "# Target (y) -> only the target column\n",
        "y = df[target_column]\n",
        "print(\"Features and target assigned.\")\n",
        "print(\"Shape of X:\", X.shape)\n",
        "print(\"Shape of y:\", y.shape)\n",
        "\n",
        "print(\"\\nX preview:\\n\", X.head())\n",
        "print(\"\\ny preview:\\n\", y.head())\n"
      ]
    },
    {
      "cell_type": "markdown",
      "id": "b8a35a5f-b3dd-4105-9a4d-3a251f93958c",
      "metadata": {
        "id": "b8a35a5f-b3dd-4105-9a4d-3a251f93958c"
      },
      "source": [
        "**Step 09:**\n",
        "- Save the pre-processed/clean dataset as a CSV file to your system.."
      ]
    },
    {
      "cell_type": "code",
      "execution_count": 43,
      "id": "21c66bf5-aa92-4900-b43c-2292a7db9c50",
      "metadata": {
        "id": "21c66bf5-aa92-4900-b43c-2292a7db9c50",
        "colab": {
          "base_uri": "https://localhost:8080/"
        },
        "outputId": "441252d9-c1a2-44f9-9498-2907557409e2"
      },
      "outputs": [
        {
          "output_type": "stream",
          "name": "stdout",
          "text": [
            "Pre-processed dataset saved to 'titanic_preprocessed.csv'\n"
          ]
        }
      ],
      "source": [
        "# Save the pre-processed dataset to a new CSV file\n",
        "df.to_csv('titanic_preprocessed.csv', index=False)\n",
        "\n",
        "print(\"Pre-processed dataset saved to 'titanic_preprocessed.csv'\")"
      ]
    },
    {
      "cell_type": "markdown",
      "id": "50fcc526-e2e5-4073-bfac-a38fa576294d",
      "metadata": {
        "id": "50fcc526-e2e5-4073-bfac-a38fa576294d"
      },
      "source": [
        "#### ✅ Rubric: Data Preprocessing (10 Marks)\n",
        "<hr>\n",
        "\n",
        "**For Course Instructor Use**\n",
        "\n",
        "Rubric for assessing an experiment involving missing data handling and feature scaling.\n",
        "\n",
        "| **Criteria**                  | **Description**                                                                                        | **Max Marks** | **Marks Obtained** |\n",
        "|------------------------------|--------------------------------------------------------------------------------------------------------|---------------|---------------------|\n",
        "| **Missing Data Handling**     | Correct identification of missing values and application of an appropriate handling method, with basic justification. |      3        |                     |\n",
        "| **Feature Scaling**           | Appropriate scaling method selected and correctly applied, with a brief explanation.                  |      3        |                     |\n",
        "| **Code Implementation**       | Code is functional and syntactically correct, with clear output demonstrating preprocessing steps.     |      2        |                     |\n",
        "| **Clarity, Insight & Viva**   | Clear justification of technique choices, reflection on preprocessing impact, and confident viva responses. |      2        |                     |\n",
        "\n",
        "**Marks Obtained: ______ / 10**\n",
        "\n",
        "<hr>\n",
        "\n",
        "**Course Instructor Signature:** ____________________      \n"
      ]
    },
    {
      "cell_type": "markdown",
      "id": "92ba4fc4-5cd5-4629-bad4-a38d2f0f2d18",
      "metadata": {
        "id": "92ba4fc4-5cd5-4629-bad4-a38d2f0f2d18"
      },
      "source": [
        "##### Link for pandoc - Download the Software for export PDF for submission in GCR\n",
        "https://github.com/jgm/pandoc/releases/tag/3.7.0.2"
      ]
    }
  ],
  "metadata": {
    "kernelspec": {
      "display_name": "Python 3 (ipykernel)",
      "language": "python",
      "name": "python3"
    },
    "language_info": {
      "codemirror_mode": {
        "name": "ipython",
        "version": 3
      },
      "file_extension": ".py",
      "mimetype": "text/x-python",
      "name": "python",
      "nbconvert_exporter": "python",
      "pygments_lexer": "ipython3",
      "version": "3.13.5"
    },
    "colab": {
      "provenance": [],
      "include_colab_link": true
    }
  },
  "nbformat": 4,
  "nbformat_minor": 5
}